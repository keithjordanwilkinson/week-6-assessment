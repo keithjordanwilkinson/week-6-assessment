{
 "cells": [
  {
   "cell_type": "code",
   "execution_count": 317,
   "id": "755f371c-28dd-4aca-a25e-de5daa354ca8",
   "metadata": {},
   "outputs": [
    {
     "name": "stdout",
     "output_type": "stream",
     "text": [
      "WHEEL OF FORTUNE\n",
      "May the odds be in your favor!\n"
     ]
    },
    {
     "name": "stdin",
     "output_type": "stream",
     "text": [
      "Please enter player one's name:  a\n",
      "Please enter player two's name:  b\n",
      "Please enter player three's name:  c\n"
     ]
    }
   ],
   "source": [
    "#Introduction to the game\n",
    "print(\"WHEEL OF FORTUNE\")\n",
    "print(\"May the odds be in your favor!\")\n",
    "\n",
    "#Getting player names\n",
    "player1 = input(\"Please enter player one's name: \").capitalize()\n",
    "player2 = input(\"Please enter player two's name: \").capitalize()\n",
    "player3 = input(\"Please enter player three's name: \").capitalize()\n",
    "\n",
    "#Money each player makes\n",
    "player1money = 0\n",
    "player2money = 0\n",
    "player3money = 0\n",
    "\n"
   ]
  },
  {
   "cell_type": "code",
   "execution_count": null,
   "id": "92adf410-a82f-4d0e-8bdc-7e133b37f226",
   "metadata": {},
   "outputs": [],
   "source": [
    "#Start Game\n",
    "\n",
    "import random\n",
    "wheel = [\"Bankrupt\",\"Lose a turn\", 100, 150, 200, 250, 300, 350, 400, 450, 500, 550, 600, 650, 700, 750, 800, 850, 900]\n",
    "categories = {\"Animal\": \"BLACK RHINOCEROS\", \"Sport\": \"SYCHRONIZED SWIMMING\", \"Thing\": \"BREAD BAG\", \"Country\": \"JAMAICA\", \"Profession\": \"FINANCIAL ADVISOR\", \"Music Genre\": \"JAMAICAN DANCEHALL\"}\n",
    "vowels = [\"A\",\"E\",\"I\",\"O\",\"U\"]\n",
    "\n",
    "#print(vowels)\n",
    "rounds = 1\n",
    "participant = 0\n",
    "\n",
    "personmoney = 0 "
   ]
  },
  {
   "cell_type": "code",
   "execution_count": null,
   "id": "3d231478-b69e-46cf-9fb0-4249507850da",
   "metadata": {},
   "outputs": [],
   "source": [
    "def getwordforgame():\n",
    "    category, word = random.choice(list(categories.items()))\n",
    "    categories.pop(category)\n",
    "    print(\"Category = \",category)\n",
    "    \n",
    "    #wordtoguess= []\n",
    "    #for char in word:\n",
    "      #  if char == ' ':\n",
    "       #     wordtoguess.append(' ')\n",
    "        #else:\n",
    "         #   wordtoguess.append(\"_\")\n",
    "    \n",
    "    #return wordtoguess\n",
    "    return word\n",
    "#print(getwordforgame())\n",
    "\n"
   ]
  },
  {
   "cell_type": "code",
   "execution_count": 346,
   "id": "087d7ccb-d49a-4895-bc03-8f51e234341b",
   "metadata": {},
   "outputs": [
    {
     "name": "stdout",
     "output_type": "stream",
     "text": [
      "Category =  Sport\n"
     ]
    }
   ],
   "source": [
    "hintforguessing = getwordforgame()\n",
    "def underlinewordforgame():\n",
    "    \n",
    "    wordtoguess = []\n",
    "    \n",
    "    for char in hintforguessing:\n",
    "        if char == ' ':\n",
    "            wordtoguess.append(' ')\n",
    "        else:\n",
    "            wordtoguess.append(\"_\")\n",
    "            \n",
    "    return wordtoguess"
   ]
  },
  {
   "cell_type": "code",
   "execution_count": 347,
   "id": "084b1de5-1fff-4b5a-ae64-1d8f17ae0c24",
   "metadata": {},
   "outputs": [
    {
     "name": "stdout",
     "output_type": "stream",
     "text": [
      "['_', '_', '_', '_', '_', '_', '_', '_', '_', '_', '_', ' ', '_', '_', '_', '_', '_', '_', '_', '_']\n"
     ]
    }
   ],
   "source": [
    "print(underlinewordforgame())"
   ]
  },
  {
   "cell_type": "code",
   "execution_count": 348,
   "id": "3fd5441e-1015-4608-9c72-1ea2a99837ea",
   "metadata": {},
   "outputs": [],
   "source": [
    "def getaroll(participant):\n",
    "    roll = random.choice(wheel)\n",
    "    print(\"Player rolled\",roll)\n",
    "    \n",
    "    if roll == \"Lose a turn\":\n",
    "        participant = participant+1\n",
    "        print(\"turn lost\")\n",
    "        getaroll(participant)\n",
    "        \n",
    "    elif roll == \"Bankrupt\":\n",
    "        #personmoney = 0\n",
    "        participant = participant+1\n",
    "        print(\"Turn and Money Lost\")\n",
    "        getaroll(participant)\n",
    "        \n",
    "    else: \n",
    "        playgame(participant, hintforguessing) #personmoney)\n",
    "    \n",
    "    return roll\n",
    "\n",
    "\n",
    "#print(getaroll())\n",
    "    "
   ]
  },
  {
   "cell_type": "code",
   "execution_count": null,
   "id": "e853a836-4a82-48e8-922d-73b1ad52f3ca",
   "metadata": {},
   "outputs": [],
   "source": []
  },
  {
   "cell_type": "code",
   "execution_count": 349,
   "id": "3e2a2be2-3702-4391-ad11-b4dcce7cd754",
   "metadata": {},
   "outputs": [],
   "source": [
    "def playgame(participant, hintforguessing): #personmoney):\n",
    "    print(\"It is\", personplaying,\"'s turn.\")\n",
    "    \n",
    "    #print(underlinewordforgame())\n",
    "    lettorword= input(\"Enter L if you would like to guess a letter and W if you would like to guess the word: \").upper()\n",
    "                \n",
    "                \n",
    "                    \n",
    "    if lettorword == \"L\":\n",
    "        guess = str(input(\"Guess a letter in the word: \")).upper()\n",
    "                    #print(guess)\n",
    "    \n",
    "                        \n",
    "                #if guess is correct\n",
    "                        \n",
    "            \n",
    "        if guess in hintforguessing and len(guess) == 1 and guess not in vowels:\n",
    "            #personmoney = personmoney + roll\n",
    "            \n",
    "            for j in range(len(hintforguessing)):\n",
    "                if hintforguessing[j] == guess:\n",
    "                    underlineword[j] = guess\n",
    "                    print(underlineword)\n",
    "                    \n",
    "                    \n",
    "            buy = input(\"Would you like to buy a vowel? (Y/N): \").upper()\n",
    "            if buy == \"Y\":\n",
    "                buyvowels(participant)\n",
    "                        \n",
    "            elif buy == \"N\":\n",
    "                getaroll(participant)\n",
    "                        \n",
    "            else: \n",
    "                print(\"Please enter 'Y' or 'N'\")\n",
    "                    \n",
    "                    \n",
    "        elif guess in vowels:\n",
    "            print(\"You are not permitted to guess vowels\")\n",
    "            \n",
    "                                #getavowel = True\n",
    "        else:\n",
    "            print(\"You were wrong.\")\n",
    "            getaroll(participant)\n",
    "            participant = participant + 1\n",
    "                                \n",
    "                                \n",
    "                                #playersturn = True\n",
    "                     \n",
    "                        \n",
    "    elif lettorword == \"W\":\n",
    "        guess = str(input(\"Guess the word: \")).upper()\n",
    "        if guess == hintforguessing:\n",
    "            #player1money = player1money + roll\n",
    "            print(\"Congrats! You are correct.\")\n",
    "            #personmoney == personmoney + roll\n",
    "            print(hintforguessing)\n",
    "            getaroll(participant)\n",
    "            rounds = rounds + 1\n",
    "        \n",
    "        else:\n",
    "            print(\"You were wrong.\")\n",
    "            getaroll(participant)\n",
    "            participant = participant + 1\n",
    "                                \n",
    "                        \n",
    "    else:\n",
    "        print(\"Please enter L or W\")\n",
    "        \n",
    "    return playgame(participant, hintforguessing) # personmoney)   \n",
    "    "
   ]
  },
  {
   "cell_type": "code",
   "execution_count": 350,
   "id": "96660ee8-b3cf-4327-a34a-54d5bf5d7dd5",
   "metadata": {},
   "outputs": [],
   "source": [
    "def buyvowels(participant):\n",
    "     #buy = input(\"Would you like to buy a vowel (y/n): \").upper()\n",
    "        #if buy  == \"Y\": buyvowels()\n",
    "                                        \n",
    "    #playermoney = playermoney - 250\n",
    "    vowelguess = input(\"Please enter the vowel you would like to buy: \").upper()\n",
    "    if vowelguess in hintforguessing and len(vowelguess) == 1 and vowelguess in vowels:\n",
    "        for j in range(len(hintforguessing)):\n",
    "            if hintforguessing[j] == vowelguess:\n",
    "                underlineword[j] = vowelguess\n",
    "                print(underlineword)\n",
    "        getaroll(participant)                   \n",
    "    \n",
    "    elif vowelguess in hintforguessing and len(vowelguess) == 1 and vowelguess not in vowels:\n",
    "        print(\"This is not a vowel\")\n",
    "        \n",
    "    else:\n",
    "        print(\"Sorry vowel is not in word\")\n",
    "        getaroll(participant)\n",
    "        participant = participant + 1\n",
    "    \n",
    "                                    \n",
    "#elif buy == \"N\": getaroll(participants)\n",
    "#else:\n",
    "#print(\"Enter 'Y' or 'N'\")   "
   ]
  },
  {
   "cell_type": "code",
   "execution_count": 351,
   "id": "e916208c-0fe9-4fd7-b4a7-5f7e34283cd2",
   "metadata": {},
   "outputs": [
    {
     "name": "stdout",
     "output_type": "stream",
     "text": [
      "['_', '_', '_', '_', '_', '_', '_', '_', '_', '_', '_', ' ', '_', '_', '_', '_', '_', '_', '_', '_']\n"
     ]
    }
   ],
   "source": [
    "#to keep track of the participants\n",
    "#participants = 0\n",
    "\n",
    "#Round1\n",
    "    \n",
    "#vowels = [\"A\",\"E\",\"I\",\"O\",\"U\"]\n",
    "\n",
    "\n",
    "underlineword = underlinewordforgame()\n",
    "print(underlineword)\n"
   ]
  },
  {
   "cell_type": "code",
   "execution_count": null,
   "id": "8ff16b11-ff13-43d9-8ad0-92ea456fc754",
   "metadata": {},
   "outputs": [],
   "source": []
  },
  {
   "cell_type": "code",
   "execution_count": null,
   "id": "0fbeca99-f41b-47b8-9dee-96f568becbdb",
   "metadata": {},
   "outputs": [
    {
     "name": "stdout",
     "output_type": "stream",
     "text": [
      "Person Playing is C\n",
      "Player rolled 250\n",
      "It is C 's turn.\n"
     ]
    },
    {
     "name": "stdin",
     "output_type": "stream",
     "text": [
      "Enter L if you would like to guess a letter and W if you would like to guess the word:  l\n",
      "Guess a letter in the word:  s\n"
     ]
    },
    {
     "name": "stdout",
     "output_type": "stream",
     "text": [
      "['S', '_', '_', '_', '_', '_', '_', '_', '_', '_', '_', ' ', '_', '_', '_', '_', '_', '_', '_', '_']\n",
      "['S', '_', '_', '_', '_', '_', '_', '_', '_', '_', '_', ' ', 'S', '_', '_', '_', '_', '_', '_', '_']\n"
     ]
    },
    {
     "name": "stdin",
     "output_type": "stream",
     "text": [
      "Would you like to buy a vowel? (Y/N):  y\n",
      "Please enter the vowel you would like to buy:  i\n"
     ]
    },
    {
     "name": "stdout",
     "output_type": "stream",
     "text": [
      "['S', '_', '_', '_', '_', '_', '_', 'I', '_', '_', '_', ' ', 'S', '_', '_', '_', '_', '_', '_', '_']\n",
      "['S', '_', '_', '_', '_', '_', '_', 'I', '_', '_', '_', ' ', 'S', '_', 'I', '_', '_', '_', '_', '_']\n",
      "['S', '_', '_', '_', '_', '_', '_', 'I', '_', '_', '_', ' ', 'S', '_', 'I', '_', '_', 'I', '_', '_']\n",
      "Player rolled 400\n",
      "It is C 's turn.\n"
     ]
    },
    {
     "name": "stdin",
     "output_type": "stream",
     "text": [
      "Enter L if you would like to guess a letter and W if you would like to guess the word:  n\n"
     ]
    },
    {
     "name": "stdout",
     "output_type": "stream",
     "text": [
      "Please enter L or W\n",
      "It is C 's turn.\n"
     ]
    },
    {
     "name": "stdin",
     "output_type": "stream",
     "text": [
      "Enter L if you would like to guess a letter and W if you would like to guess the word:  l\n",
      "Guess a letter in the word:  n\n"
     ]
    },
    {
     "name": "stdout",
     "output_type": "stream",
     "text": [
      "['S', '_', '_', '_', '_', '_', 'N', 'I', '_', '_', '_', ' ', 'S', '_', 'I', '_', '_', 'I', '_', '_']\n",
      "['S', '_', '_', '_', '_', '_', 'N', 'I', '_', '_', '_', ' ', 'S', '_', 'I', '_', '_', 'I', 'N', '_']\n"
     ]
    },
    {
     "name": "stdin",
     "output_type": "stream",
     "text": [
      "Would you like to buy a vowel? (Y/N):  n\n"
     ]
    },
    {
     "name": "stdout",
     "output_type": "stream",
     "text": [
      "Player rolled 200\n",
      "It is C 's turn.\n"
     ]
    },
    {
     "name": "stdin",
     "output_type": "stream",
     "text": [
      "Enter L if you would like to guess a letter and W if you would like to guess the word:  y\n"
     ]
    },
    {
     "name": "stdout",
     "output_type": "stream",
     "text": [
      "Please enter L or W\n",
      "It is C 's turn.\n"
     ]
    },
    {
     "name": "stdin",
     "output_type": "stream",
     "text": [
      "Enter L if you would like to guess a letter and W if you would like to guess the word:  l\n",
      "Guess a letter in the word:  y\n"
     ]
    },
    {
     "name": "stdout",
     "output_type": "stream",
     "text": [
      "['S', 'Y', '_', '_', '_', '_', 'N', 'I', '_', '_', '_', ' ', 'S', '_', 'I', '_', '_', 'I', 'N', '_']\n"
     ]
    },
    {
     "name": "stdin",
     "output_type": "stream",
     "text": [
      "Would you like to buy a vowel? (Y/N):  y\n",
      "Please enter the vowel you would like to buy:  o\n"
     ]
    },
    {
     "name": "stdout",
     "output_type": "stream",
     "text": [
      "['S', 'Y', '_', '_', '_', 'O', 'N', 'I', '_', '_', '_', ' ', 'S', '_', 'I', '_', '_', 'I', 'N', '_']\n",
      "Player rolled 850\n",
      "It is C 's turn.\n"
     ]
    },
    {
     "name": "stdin",
     "output_type": "stream",
     "text": [
      "Enter L if you would like to guess a letter and W if you would like to guess the word:  l\n",
      "Guess a letter in the word:  z\n"
     ]
    },
    {
     "name": "stdout",
     "output_type": "stream",
     "text": [
      "['S', 'Y', '_', '_', '_', 'O', 'N', 'I', 'Z', '_', '_', ' ', 'S', '_', 'I', '_', '_', 'I', 'N', '_']\n"
     ]
    },
    {
     "name": "stdin",
     "output_type": "stream",
     "text": [
      "Would you like to buy a vowel? (Y/N):  y\n",
      "Please enter the vowel you would like to buy:  e\n"
     ]
    },
    {
     "name": "stdout",
     "output_type": "stream",
     "text": [
      "['S', 'Y', '_', '_', '_', 'O', 'N', 'I', 'Z', 'E', '_', ' ', 'S', '_', 'I', '_', '_', 'I', 'N', '_']\n",
      "Player rolled 650\n",
      "It is C 's turn.\n"
     ]
    },
    {
     "name": "stdin",
     "output_type": "stream",
     "text": [
      "Enter L if you would like to guess a letter and W if you would like to guess the word:  l\n",
      "Guess a letter in the word:  c\n"
     ]
    },
    {
     "name": "stdout",
     "output_type": "stream",
     "text": [
      "['S', 'Y', 'C', '_', '_', 'O', 'N', 'I', 'Z', 'E', '_', ' ', 'S', '_', 'I', '_', '_', 'I', 'N', '_']\n"
     ]
    },
    {
     "name": "stdin",
     "output_type": "stream",
     "text": [
      "Would you like to buy a vowel? (Y/N):  n\n"
     ]
    },
    {
     "name": "stdout",
     "output_type": "stream",
     "text": [
      "Player rolled 750\n",
      "It is C 's turn.\n"
     ]
    },
    {
     "name": "stdin",
     "output_type": "stream",
     "text": [
      "Enter L if you would like to guess a letter and W if you would like to guess the word:  l\n",
      "Guess a letter in the word:  h\n"
     ]
    },
    {
     "name": "stdout",
     "output_type": "stream",
     "text": [
      "['S', 'Y', 'C', 'H', '_', 'O', 'N', 'I', 'Z', 'E', '_', ' ', 'S', '_', 'I', '_', '_', 'I', 'N', '_']\n"
     ]
    },
    {
     "name": "stdin",
     "output_type": "stream",
     "text": [
      "Would you like to buy a vowel? (Y/N):  n\n"
     ]
    },
    {
     "name": "stdout",
     "output_type": "stream",
     "text": [
      "Player rolled 700\n",
      "It is C 's turn.\n"
     ]
    },
    {
     "name": "stdin",
     "output_type": "stream",
     "text": [
      "Enter L if you would like to guess a letter and W if you would like to guess the word:  w\n",
      "Guess the word:  sychronized swimming\n"
     ]
    },
    {
     "name": "stdout",
     "output_type": "stream",
     "text": [
      "Congrats! You are correct.\n",
      "SYCHRONIZED SWIMMING\n",
      "Player rolled 450\n",
      "It is C 's turn.\n"
     ]
    }
   ],
   "source": [
    "#THIS PART IS WORKING!\n",
    "if rounds == 1:\n",
    "    participant += 1\n",
    "    \n",
    "    if participant % 3 == 1:\n",
    "        \n",
    "        personplaying = player1\n",
    "        print(\"Person Playing is\",personplaying)\n",
    "        getaroll(participant)\n",
    "        #personmoney = player1money\n",
    "        \n",
    "        #roll = getaroll()\n",
    "        #if roll == \"Lose a turn\":\n",
    "         #   i = i+1\n",
    "          #  print(\"turn lost\")\n",
    "        \n",
    "        #elif roll == \"Bankrupt\":\n",
    "         #   player1money = 0\n",
    "          #  i = i+1\n",
    "           # print(\"turn and money lost\")\n",
    "        \n",
    "        #else: \n",
    "         #   playgame(i, hintforguessing)\n",
    "            \n",
    "    elif participant % 3 == 2:\n",
    "        personplaying = player2\n",
    "        print(\"Person Playing is\",personplaying)\n",
    "        getaroll(participant)\n",
    "        #personmoney = player2money\n",
    "        \n",
    "    \n",
    "    elif participant % 3 == 0:\n",
    "        personplaying = player3\n",
    "        print(\"Person Playing is\",personplaying)\n",
    "        getaroll(participant)\n",
    "        #personmoney = player3money\n",
    "        \n",
    "        \n",
    "    "
   ]
  },
  {
   "cell_type": "code",
   "execution_count": null,
   "id": "afd2fc8e-322d-4765-b41d-7c96e1a4d60c",
   "metadata": {},
   "outputs": [],
   "source": [
    "  \n",
    "  \n",
    "\n",
    "                    \n",
    "\n",
    "                    \n",
    "\n",
    "                    \n",
    "                                \n",
    "    #ROUND3\n",
    "\n",
    "if rounds == 3:\n",
    "    print(\"Final Round\")\n",
    "    players = {player1: 4, player2: 8, player3: 6}\n",
    "      \n",
    "\n",
    "    import csv\n",
    "    with open('participantscores.csv', 'w') as csvfile:\n",
    "    \n",
    "        spamwriter = csv.writer(csvfile, delimiter =',')\n",
    "        for key, value in players.items():\n",
    "            spamwriter.writerow([key, value])\n",
    "    \n",
    "    \n",
    "    player = \"\"\n",
    "    if player1money > (player2money and player3money):\n",
    "        player = player1\n",
    "        \n",
    "    elif player2money > (player1money and player3money):\n",
    "        player = player2\n",
    "        \n",
    "    elif player3money > (player2money and player1money):\n",
    "        player = player3\n",
    "       \n",
    "    print(player)\n",
    "\n",
    "    wordtoguess = \"MECHANISM\"\n",
    "\n",
    "    hint = ['M','E','_','_','A','_','_','S','M' ]\n",
    "    print(hint)\n",
    "    \n",
    "    \n",
    "    fullword = input(\"Please guess the full word: \").upper\\\n",
    "    \n",
    "    if fullword == wordtoguess:\n",
    "        print(\"Congratulations you have won the game by guessing\",wordtoguess,\"!\")\n",
    "        \n",
    "    else:\n",
    "        print(\"Unfortunately that is not right. Good game!\")\n",
    "    \n",
    "\n",
    "#print(category, word)\n",
    "\n",
    "\n",
    "\n",
    "\n",
    "\n",
    "\n"
   ]
  },
  {
   "cell_type": "code",
   "execution_count": null,
   "id": "93276ad6-3e21-42df-b2d7-e1baf8c2c500",
   "metadata": {},
   "outputs": [],
   "source": []
  },
  {
   "cell_type": "code",
   "execution_count": null,
   "id": "4f3585cf-ac40-4891-ba0a-27bc520b4c3c",
   "metadata": {},
   "outputs": [],
   "source": [
    "import random \n",
    "categories = {\"Animal\": \"Black Rhinoceros\", \"Sport\": \"Sychronized Swimming\", \"Thing\": \"Bread Bag\", \"Country\": \"Jamaica\", \"Profession\": \"Consultant\", \"Music Genre\": \"Jamaican Dancehall\"}\n",
    "category, word = random.choice(list(categories.items()))\n",
    "\n",
    "print(word)\n"
   ]
  },
  {
   "cell_type": "code",
   "execution_count": null,
   "id": "f4b42736-4a13-415a-847b-992964c15af4",
   "metadata": {},
   "outputs": [],
   "source": [
    "import random\n",
    "wheel = [\"Bankrupt\",\"Lose a turn\", 100, 150, 200, 250, 300, 350, 400, 450, 500, 550, 600, 650, 700, 750, 800, 850, 900]\n",
    "roll = random.choice(wheel)\n",
    "print(roll)"
   ]
  },
  {
   "cell_type": "markdown",
   "id": "b346eeb3-66a1-49fc-be41-71adc99ac915",
   "metadata": {},
   "source": [
    "Player 2"
   ]
  },
  {
   "cell_type": "code",
   "execution_count": null,
   "id": "e57f81fe-0f85-4f5e-b8bd-44205776f2d1",
   "metadata": {},
   "outputs": [],
   "source": [
    "         if i == 2:\n",
    "            personplaying = player2\n",
    "            roll = random.choice(wheel)\n",
    "            print(personplaying, \"rolled\", roll)\n",
    "    \n",
    "            if roll == \"Lose a turn\":\n",
    "                i = i+1\n",
    "        \n",
    "            elif roll == \"Bankrupt\":\n",
    "                player2money = 0\n",
    "                i = i+1\n",
    "        \n",
    "            else: \n",
    "                #gameplay\n",
    "            \n",
    "                print(\"It is\", personplaying,\"'s turn.\")\n",
    "                lettorword= input(\"Enter L if you would like to guess a letter and W if you would like to guess the word: \").capitalize()\n",
    "                \n",
    "                if lettorword == \"L\":\n",
    "                    guess = str(input(\"Guess a letter in the word: \")).upper()\n",
    "                    #print(guess)\n",
    "    \n",
    "    \n",
    "                    if guess in word and len(guess) == 1:\n",
    "                        player2money = player2money + roll\n",
    "                        for i in range(len(word)):\n",
    "                            if word[i] == guess:\n",
    "                                wordtoguess[i] = guess\n",
    "                            print(wordtoguess)\n",
    "                            \n",
    "                                \n",
    "                            \n",
    "                    else:\n",
    "                        i = i + 1\n",
    "                        print(\"You were wrong.\")\n",
    "                        playgame == True\n",
    "                        \n",
    "                elif lettorword == \"W\":\n",
    "                    guess = str(input(\"Guess the word: \")).upper()\n",
    "                    if guess == word:\n",
    "                        player2money = player2money + roll\n",
    "                        print(\"Congrats! You are correct.\")\n",
    "                        print(word)\n",
    "                    \n",
    "                    else:\n",
    "                        i = i + 1\n",
    "                        print(\"You were wrong.\")\n",
    "                        \n",
    "                else:\n",
    "                    print(\"Please enter L or W\")\n",
    "                    "
   ]
  },
  {
   "cell_type": "markdown",
   "id": "002a6f01-2544-4166-ba68-895d20b421ba",
   "metadata": {},
   "source": [
    "For vowels"
   ]
  },
  {
   "cell_type": "code",
   "execution_count": null,
   "id": "0b38369a-cdbc-410e-9205-9ac8db72e369",
   "metadata": {},
   "outputs": [],
   "source": [
    " buy = input(\"Would you like to buy a vowel (y/n): \").upper()\n",
    "                                    if buy  == \"Y\":\n",
    "                                        player1money = player1money - 250\n",
    "                                        vowelguess = input(\"Please enter the vowel you would like to buy: \").upper()\n",
    "                                    \n",
    "                                        if vowelguess in word and len(vowelguess) == 1 and vowelguess in vowels:\n",
    "                                            for i in range(len(word)):\n",
    "                                                if word[i] == vowelguess:\n",
    "                                                    wordtoguess[i] = vowelguess\n",
    "                                                    print(wordtoguess)\n",
    "                                                    playersturn = True\n",
    "                                \n",
    "                                    \n",
    "                                        else:\n",
    "                                            i = i + 1\n",
    "                                            print(\"Sorry vowel is not in word\")\n",
    "                                            playersturn = True\n",
    "                                    \n",
    "                                    elif buy == \"N\":\n",
    "                                        \n",
    "                                        print(\"ok\")\n",
    "                                            \n",
    "                                    \n",
    "                                    else:\n",
    "                                        print(\"Enter 'Y' or 'N'\")        "
   ]
  },
  {
   "cell_type": "markdown",
   "id": "cbc7fd65-094b-4b65-8f1e-1f31d097012a",
   "metadata": {},
   "source": [
    "Round 3"
   ]
  },
  {
   "cell_type": "code",
   "execution_count": 133,
   "id": "1d762476-2105-4edc-87d5-c043f7935b82",
   "metadata": {},
   "outputs": [
    {
     "name": "stdout",
     "output_type": "stream",
     "text": [
      "Final Round\n",
      "A\n",
      "['M', 'E', '_', '_', 'A', '_', '_', 'S', 'M']\n"
     ]
    }
   ],
   "source": [
    "rounds = 3\n",
    "if rounds == 3:\n",
    "    print(\"Final Round\")\n",
    "    players = {player1: 4, player2: 8, player3: 6}\n",
    "      \n",
    "\n",
    "    import csv\n",
    "    with open('participantscores.csv', 'w') as csvfile:\n",
    "    \n",
    "        spamwriter = csv.writer(csvfile, delimiter =',')\n",
    "        for key, value in players.items():\n",
    "            spamwriter.writerow([key, value])\n",
    "    \n",
    "    \n",
    "    player = \"\"\n",
    "    if player1money > (player2money and player3money):\n",
    "        player = player1\n",
    "        \n",
    "    elif player2money > (player1money and player3money):\n",
    "        player = player2\n",
    "        \n",
    "    elif player3money > (player2money and player1money):\n",
    "        player = player3\n",
    "       \n",
    "    print(player)\n",
    "\n",
    "    wordtoguess = \"MECHANISM\"\n",
    "\n",
    "    hint = ['M','E','_','_','A','_','_','S','M' ]\n",
    "    print(hint)\n",
    "    \n",
    "    \n",
    "    fullword = input(\"Please guess the full word: \").upper\\\n",
    "    \n",
    "    if fullword == wordtoguess:\n",
    "        print(\"Congratulations you have won the game by guessing\",wordtoguess,\"!\")\n",
    "        \n",
    "    else:\n",
    "        print(\"Unfortunately that is not right. Good game!\")\n",
    "    \n",
    "    "
   ]
  },
  {
   "cell_type": "code",
   "execution_count": null,
   "id": "9d1be7d8-f97f-440b-a479-ffaa303e6ca4",
   "metadata": {},
   "outputs": [],
   "source": []
  }
 ],
 "metadata": {
  "kernelspec": {
   "display_name": "Python 3",
   "language": "python",
   "name": "python3"
  },
  "language_info": {
   "codemirror_mode": {
    "name": "ipython",
    "version": 3
   },
   "file_extension": ".py",
   "mimetype": "text/x-python",
   "name": "python",
   "nbconvert_exporter": "python",
   "pygments_lexer": "ipython3",
   "version": "3.8.8"
  }
 },
 "nbformat": 4,
 "nbformat_minor": 5
}
